{
 "cells": [
  {
   "cell_type": "code",
   "execution_count": 4,
   "metadata": {},
   "outputs": [
    {
     "output_type": "execute_result",
     "data": {
      "text/plain": "array(['12-7-1-2-5'], dtype=object)"
     },
     "metadata": {},
     "execution_count": 4
    }
   ],
   "source": [
    "import pandas as pd\n",
    "from sklearn.tree import DecisionTreeClassifier\n",
    "import joblib\n",
    "\n",
    "# lottery_data = pd.read_csv(\"edit_decision.csv\")\n",
    "# X = lottery_data.drop(columns=[\"Winner\",\"Day\",\"Month\",\"Year\"])\n",
    "# y = lottery_data[\"Winner\"]\n",
    "\n",
    "# model = DecisionTreeClassifier()\n",
    "# model.fit(X, y)\n",
    "\n",
    "# joblib.dump(model, \"Lottery_Predictor.joblib\")\n",
    "\n",
    "model = joblib.load(\"Lottery_Predictor.joblib\")\n",
    "predictions = model.predict([[208,23]])\n",
    "predictions\n"
   ]
  },
  {
   "cell_type": "code",
   "execution_count": null,
   "metadata": {},
   "outputs": [],
   "source": []
  }
 ],
 "metadata": {
  "kernelspec": {
   "display_name": "Python 3.8.3 64-bit ('base': conda)",
   "language": "python",
   "name": "python_defaultSpec_1600206686878"
  },
  "language_info": {
   "codemirror_mode": {
    "name": "ipython",
    "version": 3
   },
   "file_extension": ".py",
   "mimetype": "text/x-python",
   "name": "python",
   "nbconvert_exporter": "python",
   "pygments_lexer": "ipython3",
   "version": "3.8.3-final"
  }
 },
 "nbformat": 4,
 "nbformat_minor": 2
}